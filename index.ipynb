{
 "cells": [
  {
   "cell_type": "markdown",
   "metadata": {},
   "source": [
    "# Snakemake tutorial\n",
    "\n",
    "Snakefile contents are taken from [Snakemake tutorial page](https://snakemake.readthedocs.io/en/stable/tutorial/basics.html). Tutorial data is available under `data` folder. You can run the files by;\n",
    "\n",
    "1. **Terminal** : Start a terminal with launcher and you can type/run the commands from tutorial page\n",
    "2. **Notebook** : To run `bash` commands, instead of `!` you should be using `%%bash` in cells, otherwise conda environment is not recognized"
   ]
  },
  {
   "cell_type": "code",
   "execution_count": 1,
   "metadata": {},
   "outputs": [
    {
     "name": "stdout",
     "output_type": "stream",
     "text": [
      "binder\t     envs\t  scripts     Snakefile4     Snakefile-all2\n",
      "config.yaml  index.ipynb  Snakefile1  Snakefile5     Snakefile-env\n",
      "dag.svg      LICENSE\t  Snakefile2  Snakefile6     Snakefile-wrap\n",
      "data\t     README.md\t  Snakefile3  Snakefile-all\n"
     ]
    }
   ],
   "source": [
    "! ls "
   ]
  },
  {
   "cell_type": "code",
   "execution_count": 2,
   "metadata": {},
   "outputs": [
    {
     "name": "stdout",
     "output_type": "stream",
     "text": [
      "rule bwa_map:\n",
      "    input:\n",
      "        \"data/genome.fa\",\n",
      "        \"data/samples/A.fastq\"\n",
      "    output:\n",
      "        \"mapped_reads/A.bam\"\n",
      "    shell:\n",
      "        \"bwa mem {input} | samtools view -Sb - > {output}\"\n",
      "\n"
     ]
    }
   ],
   "source": [
    "! cat Snakefile1"
   ]
  },
  {
   "cell_type": "code",
   "execution_count": 3,
   "metadata": {},
   "outputs": [
    {
     "name": "stdout",
     "output_type": "stream",
     "text": [
      "Building DAG of jobs...\n",
      "Job counts:\n",
      "\tcount\tjobs\n",
      "\t1\tbwa_map\n",
      "\t1\n",
      "\n",
      "[Mon Apr  8 13:42:10 2019]\n",
      "rule bwa_map:\n",
      "    input: data/genome.fa, data/samples/A.fastq\n",
      "    output: mapped_reads/A.bam\n",
      "    jobid: 0\n",
      "\n",
      "bwa mem data/genome.fa data/samples/A.fastq | samtools view -Sb - > mapped_reads/A.bam\n",
      "Job counts:\n",
      "\tcount\tjobs\n",
      "\t1\tbwa_map\n",
      "\t1\n"
     ]
    }
   ],
   "source": [
    "%%bash\n",
    "\n",
    "snakemake -np mapped_reads/A.bam -s Snakefile1"
   ]
  },
  {
   "cell_type": "code",
   "execution_count": 4,
   "metadata": {},
   "outputs": [
    {
     "name": "stderr",
     "output_type": "stream",
     "text": [
      "Building DAG of jobs...\n",
      "Using shell: /bin/bash\n",
      "Provided cores: 1\n",
      "Rules claiming more threads will be scaled down.\n",
      "Job counts:\n",
      "\tcount\tjobs\n",
      "\t1\tbwa_map\n",
      "\t1\n",
      "\n",
      "[Mon Apr  8 13:42:16 2019]\n",
      "rule bwa_map:\n",
      "    input: data/genome.fa, data/samples/A.fastq\n",
      "    output: mapped_reads/A.bam\n",
      "    jobid: 0\n",
      "\n",
      "[M::bwa_idx_load_from_disk] read 0 ALT contigs\n",
      "[M::process] read 25000 sequences (2525000 bp)...\n",
      "[M::mem_process_seqs] Processed 25000 reads in 1.328 CPU sec, 1.432 real sec\n",
      "[main] Version: 0.7.17-r1188\n",
      "[main] CMD: bwa mem data/genome.fa data/samples/A.fastq\n",
      "[main] Real time: 1.753 sec; CPU: 1.459 sec\n",
      "[Mon Apr  8 13:42:18 2019]\n",
      "Finished job 0.\n",
      "1 of 1 steps (100%) done\n",
      "Complete log: /home/jovyan/.snakemake/log/2019-04-08T134216.397340.snakemake.log\n"
     ]
    }
   ],
   "source": [
    "%%bash\n",
    "\n",
    "snakemake -s Snakefile1 mapped_reads/A.bam"
   ]
  },
  {
   "cell_type": "code",
   "execution_count": 5,
   "metadata": {},
   "outputs": [
    {
     "name": "stderr",
     "output_type": "stream",
     "text": [
      "Building DAG of jobs...\n",
      "Using shell: /bin/bash\n",
      "Provided cores: 1\n",
      "Rules claiming more threads will be scaled down.\n",
      "Job counts:\n",
      "\tcount\tjobs\n",
      "\t1\tbwa_map\n",
      "\t1\n",
      "\n",
      "[Mon Apr  8 13:42:21 2019]\n",
      "rule bwa_map:\n",
      "    input: data/genome.fa, data/samples/A.fastq\n",
      "    output: mapped_reads/A.bam\n",
      "    jobid: 0\n",
      "\n",
      "[M::bwa_idx_load_from_disk] read 0 ALT contigs\n",
      "[M::process] read 25000 sequences (2525000 bp)...\n",
      "[M::mem_process_seqs] Processed 25000 reads in 1.495 CPU sec, 1.508 real sec\n",
      "[main] Version: 0.7.17-r1188\n",
      "[main] CMD: bwa mem data/genome.fa data/samples/A.fastq\n",
      "[main] Real time: 1.933 sec; CPU: 1.647 sec\n",
      "[Mon Apr  8 13:42:23 2019]\n",
      "Finished job 0.\n",
      "1 of 1 steps (100%) done\n",
      "Complete log: /home/jovyan/.snakemake/log/2019-04-08T134221.780203.snakemake.log\n"
     ]
    }
   ],
   "source": [
    "%%bash\n",
    "\n",
    "snakemake -s Snakefile1 -f mapped_reads/A.bam"
   ]
  },
  {
   "cell_type": "code",
   "execution_count": 6,
   "metadata": {},
   "outputs": [
    {
     "name": "stdout",
     "output_type": "stream",
     "text": [
      "A.bam\n"
     ]
    }
   ],
   "source": [
    "! ls mapped_reads/"
   ]
  },
  {
   "cell_type": "code",
   "execution_count": 7,
   "metadata": {},
   "outputs": [
    {
     "name": "stdout",
     "output_type": "stream",
     "text": [
      "rule bwa_map:\n",
      "    input:\n",
      "        \"data/genome.fa\",\n",
      "        \"data/samples/{sample}.fastq\"\n",
      "    output:\n",
      "        \"mapped_reads/{sample}.bam\"\n",
      "    shell:\n",
      "        \"bwa mem {input} | samtools view -Sb - > {output}\"\n"
     ]
    }
   ],
   "source": [
    "! cat Snakefile2"
   ]
  },
  {
   "cell_type": "code",
   "execution_count": 8,
   "metadata": {},
   "outputs": [
    {
     "name": "stdout",
     "output_type": "stream",
     "text": [
      "Building DAG of jobs...\n",
      "Job counts:\n",
      "\tcount\tjobs\n",
      "\t1\tbwa_map\n",
      "\t1\n",
      "\n",
      "[Mon Apr  8 13:42:34 2019]\n",
      "rule bwa_map:\n",
      "    input: data/genome.fa, data/samples/B.fastq\n",
      "    output: mapped_reads/B.bam\n",
      "    jobid: 1\n",
      "    wildcards: sample=B\n",
      "\n",
      "bwa mem data/genome.fa data/samples/B.fastq | samtools view -Sb - > mapped_reads/B.bam\n",
      "Job counts:\n",
      "\tcount\tjobs\n",
      "\t1\tbwa_map\n",
      "\t1\n"
     ]
    }
   ],
   "source": [
    "%%bash\n",
    "\n",
    "snakemake -np mapped_reads/{A,B}.bam -s Snakefile2"
   ]
  },
  {
   "cell_type": "code",
   "execution_count": 9,
   "metadata": {},
   "outputs": [],
   "source": [
    "! touch data/samples/A.fastq"
   ]
  },
  {
   "cell_type": "code",
   "execution_count": 10,
   "metadata": {},
   "outputs": [
    {
     "name": "stdout",
     "output_type": "stream",
     "text": [
      "Building DAG of jobs...\n",
      "Job counts:\n",
      "\tcount\tjobs\n",
      "\t2\tbwa_map\n",
      "\t2\n",
      "\n",
      "[Mon Apr  8 13:42:42 2019]\n",
      "rule bwa_map:\n",
      "    input: data/genome.fa, data/samples/A.fastq\n",
      "    output: mapped_reads/A.bam\n",
      "    jobid: 0\n",
      "    wildcards: sample=A\n",
      "\n",
      "bwa mem data/genome.fa data/samples/A.fastq | samtools view -Sb - > mapped_reads/A.bam\n",
      "\n",
      "[Mon Apr  8 13:42:42 2019]\n",
      "rule bwa_map:\n",
      "    input: data/genome.fa, data/samples/B.fastq\n",
      "    output: mapped_reads/B.bam\n",
      "    jobid: 1\n",
      "    wildcards: sample=B\n",
      "\n",
      "bwa mem data/genome.fa data/samples/B.fastq | samtools view -Sb - > mapped_reads/B.bam\n",
      "Job counts:\n",
      "\tcount\tjobs\n",
      "\t2\tbwa_map\n",
      "\t2\n"
     ]
    }
   ],
   "source": [
    "%%bash\n",
    "\n",
    "snakemake -np mapped_reads/{A,B}.bam -s Snakefile2"
   ]
  },
  {
   "cell_type": "code",
   "execution_count": 11,
   "metadata": {},
   "outputs": [
    {
     "name": "stdout",
     "output_type": "stream",
     "text": [
      "rule bwa_map:\n",
      "    input:\n",
      "        \"data/genome.fa\",\n",
      "        \"data/samples/{sample}.fastq\"\n",
      "    output:\n",
      "        \"mapped_reads/{sample}.bam\"\n",
      "    shell:\n",
      "        \"bwa mem {input} | samtools view -Sb - > {output}\"\n",
      "\n",
      "rule samtools_sort:\n",
      "    input:\n",
      "        \"mapped_reads/{sample}.bam\"\n",
      "    output:\n",
      "        \"sorted_reads/{sample}.bam\"\n",
      "    shell:\n",
      "        \"samtools sort -T sorted_reads/{wildcards.sample} \"\n",
      "        \"-O bam {input} > {output}\"\n"
     ]
    }
   ],
   "source": [
    "! cat Snakefile3"
   ]
  },
  {
   "cell_type": "code",
   "execution_count": 12,
   "metadata": {},
   "outputs": [
    {
     "name": "stdout",
     "output_type": "stream",
     "text": [
      "Building DAG of jobs...\n",
      "Job counts:\n",
      "\tcount\tjobs\n",
      "\t1\tbwa_map\n",
      "\t1\tsamtools_sort\n",
      "\t2\n",
      "\n",
      "[Mon Apr  8 13:42:50 2019]\n",
      "rule bwa_map:\n",
      "    input: data/genome.fa, data/samples/B.fastq\n",
      "    output: mapped_reads/B.bam\n",
      "    jobid: 1\n",
      "    wildcards: sample=B\n",
      "\n",
      "bwa mem data/genome.fa data/samples/B.fastq | samtools view -Sb - > mapped_reads/B.bam\n",
      "\n",
      "[Mon Apr  8 13:42:50 2019]\n",
      "rule samtools_sort:\n",
      "    input: mapped_reads/B.bam\n",
      "    output: sorted_reads/B.bam\n",
      "    jobid: 0\n",
      "    wildcards: sample=B\n",
      "\n",
      "samtools sort -T sorted_reads/B -O bam mapped_reads/B.bam > sorted_reads/B.bam\n",
      "Job counts:\n",
      "\tcount\tjobs\n",
      "\t1\tbwa_map\n",
      "\t1\tsamtools_sort\n",
      "\t2\n"
     ]
    }
   ],
   "source": [
    "%%bash\n",
    "\n",
    "snakemake -np sorted_reads/B.bam -s Snakefile3"
   ]
  },
  {
   "cell_type": "code",
   "execution_count": 13,
   "metadata": {},
   "outputs": [
    {
     "name": "stderr",
     "output_type": "stream",
     "text": [
      "Building DAG of jobs...\n",
      "Using shell: /bin/bash\n",
      "Provided cores: 1\n",
      "Rules claiming more threads will be scaled down.\n",
      "Job counts:\n",
      "\tcount\tjobs\n",
      "\t2\tbwa_map\n",
      "\t2\tsamtools_sort\n",
      "\t4\n",
      "\n",
      "[Mon Apr  8 13:42:53 2019]\n",
      "rule bwa_map:\n",
      "    input: data/genome.fa, data/samples/B.fastq\n",
      "    output: mapped_reads/B.bam\n",
      "    jobid: 2\n",
      "    wildcards: sample=B\n",
      "\n",
      "[M::bwa_idx_load_from_disk] read 0 ALT contigs\n",
      "[M::process] read 25000 sequences (2525000 bp)...\n",
      "[M::mem_process_seqs] Processed 25000 reads in 1.673 CPU sec, 1.695 real sec\n",
      "[main] Version: 0.7.17-r1188\n",
      "[main] CMD: bwa mem data/genome.fa data/samples/B.fastq\n",
      "[main] Real time: 2.016 sec; CPU: 1.791 sec\n",
      "[Mon Apr  8 13:42:55 2019]\n",
      "Finished job 2.\n",
      "1 of 4 steps (25%) done\n",
      "\n",
      "[Mon Apr  8 13:42:55 2019]\n",
      "rule bwa_map:\n",
      "    input: data/genome.fa, data/samples/A.fastq\n",
      "    output: mapped_reads/A.bam\n",
      "    jobid: 3\n",
      "    wildcards: sample=A\n",
      "\n",
      "[M::bwa_idx_load_from_disk] read 0 ALT contigs\n",
      "[M::process] read 25000 sequences (2525000 bp)...\n",
      "[M::mem_process_seqs] Processed 25000 reads in 1.388 CPU sec, 1.389 real sec\n",
      "[main] Version: 0.7.17-r1188\n",
      "[main] CMD: bwa mem data/genome.fa data/samples/A.fastq\n",
      "[main] Real time: 1.704 sec; CPU: 1.529 sec\n",
      "[Mon Apr  8 13:42:57 2019]\n",
      "Finished job 3.\n",
      "2 of 4 steps (50%) done\n",
      "\n",
      "[Mon Apr  8 13:42:57 2019]\n",
      "rule samtools_sort:\n",
      "    input: mapped_reads/B.bam\n",
      "    output: sorted_reads/B.bam\n",
      "    jobid: 0\n",
      "    wildcards: sample=B\n",
      "\n",
      "[Mon Apr  8 13:42:57 2019]\n",
      "Finished job 0.\n",
      "3 of 4 steps (75%) done\n",
      "\n",
      "[Mon Apr  8 13:42:57 2019]\n",
      "rule samtools_sort:\n",
      "    input: mapped_reads/A.bam\n",
      "    output: sorted_reads/A.bam\n",
      "    jobid: 1\n",
      "    wildcards: sample=A\n",
      "\n",
      "[Mon Apr  8 13:42:58 2019]\n",
      "Finished job 1.\n",
      "4 of 4 steps (100%) done\n",
      "Complete log: /home/jovyan/.snakemake/log/2019-04-08T134253.581310.snakemake.log\n"
     ]
    }
   ],
   "source": [
    "%%bash\n",
    "\n",
    "snakemake -s Snakefile3 sorted_reads/{A,B}.bam"
   ]
  },
  {
   "cell_type": "code",
   "execution_count": 14,
   "metadata": {},
   "outputs": [
    {
     "name": "stdout",
     "output_type": "stream",
     "text": [
      "rule bwa_map:\n",
      "    input:\n",
      "        \"data/genome.fa\",\n",
      "        \"data/samples/{sample}.fastq\"\n",
      "    output:\n",
      "        \"mapped_reads/{sample}.bam\"\n",
      "    shell:\n",
      "        \"bwa mem {input} | samtools view -Sb - > {output}\"\n",
      "\n",
      "rule samtools_sort:\n",
      "    input:\n",
      "        \"mapped_reads/{sample}.bam\"\n",
      "    output:\n",
      "        \"sorted_reads/{sample}.bam\"\n",
      "    shell:\n",
      "        \"samtools sort -T sorted_reads/{wildcards.sample} \"\n",
      "        \"-O bam {input} > {output}\"\n",
      "\n",
      "rule samtools_index:\n",
      "    input:\n",
      "        \"sorted_reads/{sample}.bam\"\n",
      "    output:\n",
      "        \"sorted_reads/{sample}.bam.bai\"\n",
      "    shell:\n",
      "        \"samtools index {input}\"\n"
     ]
    }
   ],
   "source": [
    "! cat Snakefile4"
   ]
  },
  {
   "cell_type": "code",
   "execution_count": 15,
   "metadata": {},
   "outputs": [
    {
     "name": "stderr",
     "output_type": "stream",
     "text": [
      "Building DAG of jobs...\n"
     ]
    }
   ],
   "source": [
    "%%bash\n",
    "\n",
    "snakemake --dag sorted_reads/{A,B}.bam.bai -s Snakefile4 | dot -Tsvg > dag.svg"
   ]
  },
  {
   "cell_type": "markdown",
   "metadata": {},
   "source": [
    "![DAG](dag.svg)"
   ]
  },
  {
   "cell_type": "code",
   "execution_count": 21,
   "metadata": {},
   "outputs": [
    {
     "name": "stderr",
     "output_type": "stream",
     "text": [
      "Building DAG of jobs...\n",
      "Using shell: /bin/bash\n",
      "Provided cores: 1\n",
      "Rules claiming more threads will be scaled down.\n",
      "Job counts:\n",
      "\tcount\tjobs\n",
      "\t2\tsamtools_index\n",
      "\t2\n",
      "\n",
      "[Mon Apr  8 13:56:33 2019]\n",
      "rule samtools_index:\n",
      "    input: sorted_reads/B.bam\n",
      "    output: sorted_reads/B.bam.bai\n",
      "    jobid: 1\n",
      "    wildcards: sample=B\n",
      "\n",
      "[Mon Apr  8 13:56:33 2019]\n",
      "Finished job 1.\n",
      "1 of 2 steps (50%) done\n",
      "\n",
      "[Mon Apr  8 13:56:33 2019]\n",
      "rule samtools_index:\n",
      "    input: sorted_reads/A.bam\n",
      "    output: sorted_reads/A.bam.bai\n",
      "    jobid: 0\n",
      "    wildcards: sample=A\n",
      "\n",
      "[Mon Apr  8 13:56:33 2019]\n",
      "Finished job 0.\n",
      "2 of 2 steps (100%) done\n",
      "Complete log: /home/jovyan/.snakemake/log/2019-04-08T135633.686610.snakemake.log\n"
     ]
    }
   ],
   "source": [
    "%%bash\n",
    "\n",
    "snakemake -s Snakefile4 sorted_reads/{A,B}.bam.bai"
   ]
  },
  {
   "cell_type": "code",
   "execution_count": 22,
   "metadata": {},
   "outputs": [
    {
     "name": "stderr",
     "output_type": "stream",
     "text": [
      "Building DAG of jobs...\n",
      "Using shell: /bin/bash\n",
      "Provided cores: 1\n",
      "Rules claiming more threads will be scaled down.\n",
      "Job counts:\n",
      "\tcount\tjobs\n",
      "\t1\tbcftools_call\n",
      "\t1\n",
      "\n",
      "[Mon Apr  8 13:56:38 2019]\n",
      "rule bcftools_call:\n",
      "    input: data/genome.fa, sorted_reads/A.bam, sorted_reads/B.bam, sorted_reads/A.bam.bai, sorted_reads/B.bam.bai\n",
      "    output: calls/all.vcf\n",
      "    jobid: 0\n",
      "\n",
      "[warning] samtools mpileup option `g` is functional, but deprecated. Please switch to using bcftools mpileup in future.\n",
      "[mpileup] 2 samples in 2 input files\n",
      "Note: none of --samples-file, --ploidy or --ploidy-file given, assuming all sites are diploid\n",
      "[Mon Apr  8 13:56:39 2019]\n",
      "Finished job 0.\n",
      "1 of 1 steps (100%) done\n",
      "Complete log: /home/jovyan/.snakemake/log/2019-04-08T135637.973158.snakemake.log\n"
     ]
    }
   ],
   "source": [
    "%%bash\n",
    "\n",
    "snakemake -s Snakefile5"
   ]
  },
  {
   "cell_type": "code",
   "execution_count": 23,
   "metadata": {},
   "outputs": [
    {
     "name": "stderr",
     "output_type": "stream",
     "text": [
      "Building DAG of jobs...\n",
      "Using shell: /bin/bash\n",
      "Provided cores: 1\n",
      "Rules claiming more threads will be scaled down.\n",
      "Job counts:\n",
      "\tcount\tjobs\n",
      "\t1\tplot_quals\n",
      "\t1\n",
      "\n",
      "[Mon Apr  8 13:57:31 2019]\n",
      "rule plot_quals:\n",
      "    input: calls/all.vcf\n",
      "    output: plots/quals.svg\n",
      "    jobid: 0\n",
      "\n",
      "[Mon Apr  8 13:57:34 2019]\n",
      "Finished job 0.\n",
      "1 of 1 steps (100%) done\n",
      "Complete log: /home/jovyan/.snakemake/log/2019-04-08T135731.206908.snakemake.log\n"
     ]
    }
   ],
   "source": [
    "%%bash\n",
    "\n",
    "snakemake -s Snakefile6"
   ]
  },
  {
   "cell_type": "code",
   "execution_count": 25,
   "metadata": {},
   "outputs": [
    {
     "name": "stdout",
     "output_type": "stream",
     "text": [
      "quals.svg\n"
     ]
    }
   ],
   "source": [
    "! ls "
   ]
  },
  {
   "cell_type": "markdown",
   "metadata": {},
   "source": [
    "![quals](plots/quals.svg)"
   ]
  },
  {
   "cell_type": "code",
   "execution_count": 33,
   "metadata": {},
   "outputs": [],
   "source": [
    "! touch data/samples/A.fastq"
   ]
  },
  {
   "cell_type": "code",
   "execution_count": 34,
   "metadata": {},
   "outputs": [
    {
     "name": "stderr",
     "output_type": "stream",
     "text": [
      "Building DAG of jobs...\n"
     ]
    }
   ],
   "source": [
    "%%bash\n",
    "\n",
    "snakemake --dag -s Snakefile-all | dot -Tsvg > dag-all.svg"
   ]
  },
  {
   "cell_type": "markdown",
   "metadata": {},
   "source": [
    "![dag-all](dag-all.svg)"
   ]
  },
  {
   "cell_type": "code",
   "execution_count": 35,
   "metadata": {},
   "outputs": [
    {
     "name": "stderr",
     "output_type": "stream",
     "text": [
      "Building DAG of jobs...\n",
      "Using shell: /bin/bash\n",
      "Provided cores: 1\n",
      "Rules claiming more threads will be scaled down.\n",
      "Job counts:\n",
      "\tcount\tjobs\n",
      "\t1\tall\n",
      "\t1\tbcftools_call\n",
      "\t1\tbwa_map\n",
      "\t1\tplot_quals\n",
      "\t1\tsamtools_index\n",
      "\t1\tsamtools_sort\n",
      "\t6\n",
      "\n",
      "[Mon Apr  8 14:05:01 2019]\n",
      "rule bwa_map:\n",
      "    input: data/genome.fa, data/samples/A.fastq\n",
      "    output: mapped_reads/A.bam\n",
      "    jobid: 8\n",
      "    wildcards: sample=A\n",
      "\n",
      "[M::bwa_idx_load_from_disk] read 0 ALT contigs\n",
      "[M::process] read 25000 sequences (2525000 bp)...\n",
      "[M::mem_process_seqs] Processed 25000 reads in 1.544 CPU sec, 1.591 real sec\n",
      "[main] Version: 0.7.17-r1188\n",
      "[main] CMD: bwa mem data/genome.fa data/samples/A.fastq\n",
      "[main] Real time: 1.929 sec; CPU: 1.683 sec\n",
      "[Mon Apr  8 14:05:03 2019]\n",
      "Finished job 8.\n",
      "1 of 6 steps (17%) done\n",
      "\n",
      "[Mon Apr  8 14:05:03 2019]\n",
      "rule samtools_sort:\n",
      "    input: mapped_reads/A.bam\n",
      "    output: sorted_reads/A.bam\n",
      "    jobid: 4\n",
      "    wildcards: sample=A\n",
      "\n",
      "[Mon Apr  8 14:05:04 2019]\n",
      "Finished job 4.\n",
      "2 of 6 steps (33%) done\n",
      "\n",
      "[Mon Apr  8 14:05:04 2019]\n",
      "rule samtools_index:\n",
      "    input: sorted_reads/A.bam\n",
      "    output: sorted_reads/A.bam.bai\n",
      "    jobid: 5\n",
      "    wildcards: sample=A\n",
      "\n",
      "[Mon Apr  8 14:05:04 2019]\n",
      "Finished job 5.\n",
      "3 of 6 steps (50%) done\n",
      "\n",
      "[Mon Apr  8 14:05:04 2019]\n",
      "rule bcftools_call:\n",
      "    input: data/genome.fa, sorted_reads/A.bam, sorted_reads/B.bam, sorted_reads/A.bam.bai, sorted_reads/B.bam.bai\n",
      "    output: calls/all.vcf\n",
      "    jobid: 2\n",
      "\n",
      "Note: none of --samples-file, --ploidy or --ploidy-file given, assuming all sites are diploid\n",
      "[warning] samtools mpileup option `g` is functional, but deprecated. Please switch to using bcftools mpileup in future.\n",
      "[mpileup] 2 samples in 2 input files\n",
      "[Mon Apr  8 14:05:05 2019]\n",
      "Finished job 2.\n",
      "4 of 6 steps (67%) done\n",
      "\n",
      "[Mon Apr  8 14:05:05 2019]\n",
      "rule plot_quals:\n",
      "    input: calls/all.vcf\n",
      "    output: plots/quals.svg\n",
      "    jobid: 1\n",
      "\n",
      "[Mon Apr  8 14:05:07 2019]\n",
      "Finished job 1.\n",
      "5 of 6 steps (83%) done\n",
      "\n",
      "[Mon Apr  8 14:05:07 2019]\n",
      "localrule all:\n",
      "    input: plots/quals.svg\n",
      "    jobid: 0\n",
      "\n",
      "[Mon Apr  8 14:05:07 2019]\n",
      "Finished job 0.\n",
      "6 of 6 steps (100%) done\n",
      "Complete log: /home/jovyan/.snakemake/log/2019-04-08T140501.864867.snakemake.log\n"
     ]
    }
   ],
   "source": [
    "%%bash \n",
    "\n",
    "snakemake -s Snakefile-all"
   ]
  }
 ],
 "metadata": {
  "kernelspec": {
   "display_name": "Python 3",
   "language": "python",
   "name": "python3"
  },
  "language_info": {
   "codemirror_mode": {
    "name": "ipython",
    "version": 3
   },
   "file_extension": ".py",
   "mimetype": "text/x-python",
   "name": "python",
   "nbconvert_exporter": "python",
   "pygments_lexer": "ipython3",
   "version": "3.6.7"
  }
 },
 "nbformat": 4,
 "nbformat_minor": 2
}
