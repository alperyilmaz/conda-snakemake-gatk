{
 "cells": [
  {
   "cell_type": "markdown",
   "metadata": {},
   "source": [
    "# Snakemake GATK pipeline\n"
   ]
  },
  {
   "cell_type": "code",
   "execution_count": 1,
   "metadata": {},
   "outputs": [
    {
     "name": "stdout",
     "output_type": "stream",
     "text": [
      "binder\t       data\t\t    genotyped\t qc\t      schemas\n",
      "called\t       dedup\t\t    howto\t README.md    scripts\n",
      "config.yaml    envs\t\t    index.ipynb  recal\t      Snakefile\n",
      "dag-rules.svg  filtered\t\t    logs\t rules\t      trimmed\n",
      "dag.svg        gatk-pipeline-stats  mapped\t samples.tsv  units.tsv\n"
     ]
    }
   ],
   "source": [
    "! ls"
   ]
  },
  {
   "cell_type": "code",
   "execution_count": 2,
   "metadata": {},
   "outputs": [
    {
     "name": "stdout",
     "output_type": "stream",
     "text": [
      "include: \"rules/common.smk\"\n",
      "\n",
      "##### Target rules #####\n",
      "\n",
      "rule all:\n",
      "    input:\n",
      "        \"annotated/all.vcf.gz\",\n",
      "        \"qc/multiqc.html\",\n",
      "        \"plots/depths.svg\",\n",
      "        \"plots/allele-freqs.svg\"\n",
      "\n",
      "\n",
      "##### Modules #####\n",
      "\n",
      "include: \"rules/mapping.smk\"\n",
      "include: \"rules/calling.smk\"\n",
      "include: \"rules/filtering.smk\"\n",
      "include: \"rules/stats.smk\"\n",
      "include: \"rules/qc.smk\"\n",
      "include: \"rules/annotation.smk\"\n"
     ]
    }
   ],
   "source": [
    "! cat Snakefile"
   ]
  },
  {
   "cell_type": "code",
   "execution_count": 3,
   "metadata": {},
   "outputs": [
    {
     "name": "stdout",
     "output_type": "stream",
     "text": [
      "Building DAG of jobs...\n",
      "Error: Directory cannot be locked. This usually means that another Snakemake instance is running on this directory. Another possibility is that a previous run exited unexpectedly.\n",
      "Conda environment https:/bitbucket.org/snakemake/snakemake-wrappers/raw/0.27.1/bio/snpeff/environment.yaml will be created.\n",
      "Conda environment https:/bitbucket.org/snakemake/snakemake-wrappers/raw/0.33.0/bio/multiqc/environment.yaml will be created.\n",
      "Conda environment https:/bitbucket.org/snakemake/snakemake-wrappers/raw/0.27.1/bio/fastqc/environment.yaml will be created.\n",
      "Conda environment envs/rbt.yaml will be created.\n",
      "Conda environment envs/stats.yaml will be created.\n",
      "Conda environment https:/bitbucket.org/snakemake/snakemake-wrappers/raw/0.27.1/bio/samtools/stats/environment.yaml will be created.\n",
      "Job counts:\n",
      "\tcount\tjobs\n",
      "\t1\tall\n",
      "\t3\tfastqc\n",
      "\t1\thard_filter_calls\n",
      "\t1\tmerge_calls\n",
      "\t1\tmultiqc\n",
      "\t1\tplot_stats\n",
      "\t3\tsamtools_stats\n",
      "\t1\tselect_calls\n",
      "\t1\tsnpeff\n",
      "\t1\tvcf_to_tsv\n",
      "\t14\n",
      "\n",
      "[Mon Apr 29 08:01:05 2019]\n",
      "rule fastqc:\n",
      "    input: data/reads/a.chr21.1.fq, data/reads/a.chr21.2.fq\n",
      "    output: qc/fastqc/A-1.html, qc/fastqc/A-1.zip\n",
      "    jobid: 14\n",
      "    wildcards: sample=A, unit=1\n",
      "\n",
      "[Mon Apr 29 08:01:05 2019]\n",
      "rule samtools_stats:\n",
      "    input: recal/B-1.bam\n",
      "    output: qc/samtools-stats/B-1.txt\n",
      "    log: logs/samtools-stats/B-1.log\n",
      "    jobid: 9\n",
      "    wildcards: sample=B, unit=1\n",
      "\n",
      "[Mon Apr 29 08:01:05 2019]\n",
      "rule fastqc:\n",
      "    input: data/reads/b.chr21.1.fq, data/reads/b.chr21.2.fq\n",
      "    output: qc/fastqc/B-1.html, qc/fastqc/B-1.zip\n",
      "    jobid: 6\n",
      "    wildcards: sample=B, unit=1\n",
      "\n",
      "[Mon Apr 29 08:01:05 2019]\n",
      "rule samtools_stats:\n",
      "    input: recal/A-1.bam\n",
      "    output: qc/samtools-stats/A-1.txt\n",
      "    log: logs/samtools-stats/A-1.log\n",
      "    jobid: 7\n",
      "    wildcards: sample=A, unit=1\n",
      "\n",
      "[Mon Apr 29 08:01:05 2019]\n",
      "rule select_calls:\n",
      "    input: data/ref/genome.chr21.fa, genotyped/all.vcf.gz\n",
      "    output: filtered/all.indels.vcf.gz\n",
      "    log: logs/gatk/selectvariants/indels.log\n",
      "    jobid: 23\n",
      "    wildcards: vartype=indels\n",
      "\n",
      "[Mon Apr 29 08:01:05 2019]\n",
      "rule fastqc:\n",
      "    input: data/reads/b.chr21.1.fq\n",
      "    output: qc/fastqc/B-2.html, qc/fastqc/B-2.zip\n",
      "    jobid: 13\n",
      "    wildcards: sample=B, unit=2\n",
      "\n",
      "[Mon Apr 29 08:01:05 2019]\n",
      "rule samtools_stats:\n",
      "    input: recal/B-2.bam\n",
      "    output: qc/samtools-stats/B-2.txt\n",
      "    log: logs/samtools-stats/B-2.log\n",
      "    jobid: 11\n",
      "    wildcards: sample=B, unit=2\n",
      "\n",
      "[Mon Apr 29 08:01:05 2019]\n",
      "rule hard_filter_calls:\n",
      "    input: data/ref/genome.chr21.fa, filtered/all.indels.vcf.gz\n",
      "    output: filtered/all.indels.hardfiltered.vcf.gz\n",
      "    log: logs/gatk/variantfiltration/indels.log\n",
      "    jobid: 15\n",
      "    wildcards: vartype=indels\n",
      "\n",
      "[Mon Apr 29 08:01:05 2019]\n",
      "rule merge_calls:\n",
      "    input: filtered/all.snvs.hardfiltered.vcf.gz, filtered/all.indels.hardfiltered.vcf.gz\n",
      "    output: filtered/all.vcf.gz\n",
      "    log: logs/picard/merge-filtered.log\n",
      "    jobid: 4\n",
      "\n",
      "[Mon Apr 29 08:01:05 2019]\n",
      "rule snpeff:\n",
      "    input: filtered/all.vcf.gz\n",
      "    output: annotated/all.vcf.gz, snpeff/all.csv\n",
      "    log: logs/snpeff.log\n",
      "    jobid: 1\n",
      "\n",
      "[Mon Apr 29 08:01:05 2019]\n",
      "rule vcf_to_tsv:\n",
      "    input: annotated/all.vcf.gz\n",
      "    output: tables/calls.tsv.gz\n",
      "    jobid: 5\n",
      "\n",
      "bcftools view --apply-filters PASS --output-type u annotated/all.vcf.gz | rbt vcf-to-txt -g --fmt DP AD --info ANN | gzip > tables/calls.tsv.gz\n",
      "\n",
      "[Mon Apr 29 08:01:05 2019]\n",
      "rule multiqc:\n",
      "    input: qc/samtools-stats/A-1.txt, qc/fastqc/A-1.zip, qc/dedup/A-1.metrics.txt, qc/samtools-stats/B-1.txt, qc/fastqc/B-1.zip, qc/dedup/B-1.metrics.txt, qc/samtools-stats/B-2.txt, qc/fastqc/B-2.zip, qc/dedup/B-2.metrics.txt, snpeff/all.csv\n",
      "    output: qc/multiqc.html\n",
      "    log: logs/multiqc.log\n",
      "    jobid: 3\n",
      "\n",
      "[Mon Apr 29 08:01:05 2019]\n",
      "rule plot_stats:\n",
      "    input: tables/calls.tsv.gz\n",
      "    output: plots/depths.svg, plots/allele-freqs.svg\n",
      "    jobid: 2\n",
      "\n",
      "[Mon Apr 29 08:01:05 2019]\n",
      "localrule all:\n",
      "    input: annotated/all.vcf.gz, qc/multiqc.html, plots/depths.svg, plots/allele-freqs.svg\n",
      "    jobid: 0\n",
      "\n",
      "Job counts:\n",
      "\tcount\tjobs\n",
      "\t1\tall\n",
      "\t3\tfastqc\n",
      "\t1\thard_filter_calls\n",
      "\t1\tmerge_calls\n",
      "\t1\tmultiqc\n",
      "\t1\tplot_stats\n",
      "\t3\tsamtools_stats\n",
      "\t1\tselect_calls\n",
      "\t1\tsnpeff\n",
      "\t1\tvcf_to_tsv\n",
      "\t14\n"
     ]
    },
    {
     "name": "stderr",
     "output_type": "stream",
     "text": [
      "/srv/conda/lib/python3.6/site-packages/snakemake/workflow.py:12: FutureWarning: read_table is deprecated, use read_csv instead, passing sep='\\t'.\n",
      "  from collections import OrderedDict\n",
      "/srv/conda/lib/python3.6/site-packages/snakemake/workflow.py:15: FutureWarning: read_table is deprecated, use read_csv instead, passing sep='\\t'.\n",
      "  from operator import attrgetter\n",
      "/srv/conda/lib/python3.6/site-packages/snakemake/workflow.py:21: FutureWarning: read_table is deprecated, use read_csv instead, passing sep='\\t'.\n",
      "  from snakemake.exceptions import RuleException, CreateRuleException, \\\n"
     ]
    }
   ],
   "source": [
    "%%bash\n",
    "\n",
    "snakemake -np --use-conda"
   ]
  }
 ],
 "metadata": {
  "kernelspec": {
   "display_name": "Python 3",
   "language": "python",
   "name": "python3"
  },
  "language_info": {
   "codemirror_mode": {
    "name": "ipython",
    "version": 3
   },
   "file_extension": ".py",
   "mimetype": "text/x-python",
   "name": "python",
   "nbconvert_exporter": "python",
   "pygments_lexer": "ipython3",
   "version": "3.6.7"
  }
 },
 "nbformat": 4,
 "nbformat_minor": 2
}
